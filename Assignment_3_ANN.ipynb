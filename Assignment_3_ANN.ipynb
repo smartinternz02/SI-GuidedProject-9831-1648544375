{
 "cells": [
  {
   "cell_type": "code",
   "execution_count": 1,
   "id": "f5435be8-6af2-45b5-8f71-7e067a6fd8ac",
   "metadata": {},
   "outputs": [],
   "source": [
    "import numpy as np\n",
    "import pandas as pd"
   ]
  },
  {
   "cell_type": "code",
   "execution_count": 4,
   "id": "03a11a30-e81c-4926-b30f-1d90fd4de3b9",
   "metadata": {},
   "outputs": [
    {
     "data": {
      "text/html": [
       "<div>\n",
       "<style scoped>\n",
       "    .dataframe tbody tr th:only-of-type {\n",
       "        vertical-align: middle;\n",
       "    }\n",
       "\n",
       "    .dataframe tbody tr th {\n",
       "        vertical-align: top;\n",
       "    }\n",
       "\n",
       "    .dataframe thead th {\n",
       "        text-align: right;\n",
       "    }\n",
       "</style>\n",
       "<table border=\"1\" class=\"dataframe\">\n",
       "  <thead>\n",
       "    <tr style=\"text-align: right;\">\n",
       "      <th></th>\n",
       "      <th>Unnamed: 0</th>\n",
       "      <th>ID</th>\n",
       "      <th>Name</th>\n",
       "      <th>Age</th>\n",
       "      <th>Photo</th>\n",
       "      <th>Nationality</th>\n",
       "      <th>Flag</th>\n",
       "      <th>Overall</th>\n",
       "      <th>Potential</th>\n",
       "      <th>Club</th>\n",
       "      <th>...</th>\n",
       "      <th>Composure</th>\n",
       "      <th>Marking</th>\n",
       "      <th>StandingTackle</th>\n",
       "      <th>SlidingTackle</th>\n",
       "      <th>GKDiving</th>\n",
       "      <th>GKHandling</th>\n",
       "      <th>GKKicking</th>\n",
       "      <th>GKPositioning</th>\n",
       "      <th>GKReflexes</th>\n",
       "      <th>Release Clause</th>\n",
       "    </tr>\n",
       "  </thead>\n",
       "  <tbody>\n",
       "    <tr>\n",
       "      <th>0</th>\n",
       "      <td>0</td>\n",
       "      <td>158023</td>\n",
       "      <td>L. Messi</td>\n",
       "      <td>31</td>\n",
       "      <td>https://cdn.sofifa.org/players/4/19/158023.png</td>\n",
       "      <td>Argentina</td>\n",
       "      <td>https://cdn.sofifa.org/flags/52.png</td>\n",
       "      <td>94</td>\n",
       "      <td>94</td>\n",
       "      <td>FC Barcelona</td>\n",
       "      <td>...</td>\n",
       "      <td>96.0</td>\n",
       "      <td>33.0</td>\n",
       "      <td>28.0</td>\n",
       "      <td>26.0</td>\n",
       "      <td>6.0</td>\n",
       "      <td>11.0</td>\n",
       "      <td>15.0</td>\n",
       "      <td>14.0</td>\n",
       "      <td>8.0</td>\n",
       "      <td>€226.5M</td>\n",
       "    </tr>\n",
       "    <tr>\n",
       "      <th>1</th>\n",
       "      <td>1</td>\n",
       "      <td>20801</td>\n",
       "      <td>Cristiano Ronaldo</td>\n",
       "      <td>33</td>\n",
       "      <td>https://cdn.sofifa.org/players/4/19/20801.png</td>\n",
       "      <td>Portugal</td>\n",
       "      <td>https://cdn.sofifa.org/flags/38.png</td>\n",
       "      <td>94</td>\n",
       "      <td>94</td>\n",
       "      <td>Juventus</td>\n",
       "      <td>...</td>\n",
       "      <td>95.0</td>\n",
       "      <td>28.0</td>\n",
       "      <td>31.0</td>\n",
       "      <td>23.0</td>\n",
       "      <td>7.0</td>\n",
       "      <td>11.0</td>\n",
       "      <td>15.0</td>\n",
       "      <td>14.0</td>\n",
       "      <td>11.0</td>\n",
       "      <td>€127.1M</td>\n",
       "    </tr>\n",
       "    <tr>\n",
       "      <th>2</th>\n",
       "      <td>2</td>\n",
       "      <td>190871</td>\n",
       "      <td>Neymar Jr</td>\n",
       "      <td>26</td>\n",
       "      <td>https://cdn.sofifa.org/players/4/19/190871.png</td>\n",
       "      <td>Brazil</td>\n",
       "      <td>https://cdn.sofifa.org/flags/54.png</td>\n",
       "      <td>92</td>\n",
       "      <td>93</td>\n",
       "      <td>Paris Saint-Germain</td>\n",
       "      <td>...</td>\n",
       "      <td>94.0</td>\n",
       "      <td>27.0</td>\n",
       "      <td>24.0</td>\n",
       "      <td>33.0</td>\n",
       "      <td>9.0</td>\n",
       "      <td>9.0</td>\n",
       "      <td>15.0</td>\n",
       "      <td>15.0</td>\n",
       "      <td>11.0</td>\n",
       "      <td>€228.1M</td>\n",
       "    </tr>\n",
       "    <tr>\n",
       "      <th>3</th>\n",
       "      <td>3</td>\n",
       "      <td>193080</td>\n",
       "      <td>De Gea</td>\n",
       "      <td>27</td>\n",
       "      <td>https://cdn.sofifa.org/players/4/19/193080.png</td>\n",
       "      <td>Spain</td>\n",
       "      <td>https://cdn.sofifa.org/flags/45.png</td>\n",
       "      <td>91</td>\n",
       "      <td>93</td>\n",
       "      <td>Manchester United</td>\n",
       "      <td>...</td>\n",
       "      <td>68.0</td>\n",
       "      <td>15.0</td>\n",
       "      <td>21.0</td>\n",
       "      <td>13.0</td>\n",
       "      <td>90.0</td>\n",
       "      <td>85.0</td>\n",
       "      <td>87.0</td>\n",
       "      <td>88.0</td>\n",
       "      <td>94.0</td>\n",
       "      <td>€138.6M</td>\n",
       "    </tr>\n",
       "    <tr>\n",
       "      <th>4</th>\n",
       "      <td>4</td>\n",
       "      <td>192985</td>\n",
       "      <td>K. De Bruyne</td>\n",
       "      <td>27</td>\n",
       "      <td>https://cdn.sofifa.org/players/4/19/192985.png</td>\n",
       "      <td>Belgium</td>\n",
       "      <td>https://cdn.sofifa.org/flags/7.png</td>\n",
       "      <td>91</td>\n",
       "      <td>92</td>\n",
       "      <td>Manchester City</td>\n",
       "      <td>...</td>\n",
       "      <td>88.0</td>\n",
       "      <td>68.0</td>\n",
       "      <td>58.0</td>\n",
       "      <td>51.0</td>\n",
       "      <td>15.0</td>\n",
       "      <td>13.0</td>\n",
       "      <td>5.0</td>\n",
       "      <td>10.0</td>\n",
       "      <td>13.0</td>\n",
       "      <td>€196.4M</td>\n",
       "    </tr>\n",
       "  </tbody>\n",
       "</table>\n",
       "<p>5 rows × 89 columns</p>\n",
       "</div>"
      ],
      "text/plain": [
       "   Unnamed: 0      ID               Name  Age  \\\n",
       "0           0  158023           L. Messi   31   \n",
       "1           1   20801  Cristiano Ronaldo   33   \n",
       "2           2  190871          Neymar Jr   26   \n",
       "3           3  193080             De Gea   27   \n",
       "4           4  192985       K. De Bruyne   27   \n",
       "\n",
       "                                            Photo Nationality  \\\n",
       "0  https://cdn.sofifa.org/players/4/19/158023.png   Argentina   \n",
       "1   https://cdn.sofifa.org/players/4/19/20801.png    Portugal   \n",
       "2  https://cdn.sofifa.org/players/4/19/190871.png      Brazil   \n",
       "3  https://cdn.sofifa.org/players/4/19/193080.png       Spain   \n",
       "4  https://cdn.sofifa.org/players/4/19/192985.png     Belgium   \n",
       "\n",
       "                                  Flag  Overall  Potential  \\\n",
       "0  https://cdn.sofifa.org/flags/52.png       94         94   \n",
       "1  https://cdn.sofifa.org/flags/38.png       94         94   \n",
       "2  https://cdn.sofifa.org/flags/54.png       92         93   \n",
       "3  https://cdn.sofifa.org/flags/45.png       91         93   \n",
       "4   https://cdn.sofifa.org/flags/7.png       91         92   \n",
       "\n",
       "                  Club  ... Composure Marking StandingTackle  SlidingTackle  \\\n",
       "0         FC Barcelona  ...      96.0    33.0           28.0           26.0   \n",
       "1             Juventus  ...      95.0    28.0           31.0           23.0   \n",
       "2  Paris Saint-Germain  ...      94.0    27.0           24.0           33.0   \n",
       "3    Manchester United  ...      68.0    15.0           21.0           13.0   \n",
       "4      Manchester City  ...      88.0    68.0           58.0           51.0   \n",
       "\n",
       "  GKDiving  GKHandling  GKKicking  GKPositioning GKReflexes Release Clause  \n",
       "0      6.0        11.0       15.0           14.0        8.0        €226.5M  \n",
       "1      7.0        11.0       15.0           14.0       11.0        €127.1M  \n",
       "2      9.0         9.0       15.0           15.0       11.0        €228.1M  \n",
       "3     90.0        85.0       87.0           88.0       94.0        €138.6M  \n",
       "4     15.0        13.0        5.0           10.0       13.0        €196.4M  \n",
       "\n",
       "[5 rows x 89 columns]"
      ]
     },
     "execution_count": 4,
     "metadata": {},
     "output_type": "execute_result"
    }
   ],
   "source": [
    "df=pd.read_csv(r'C:\\Users\\LEGION\\Desktop\\Externship_SmartBridge\\data.csv')\n",
    "\n",
    "na = pd.notnull(df[\"Position\"])\n",
    "df = df[na]\n",
    "\n",
    "df.head()"
   ]
  },
  {
   "cell_type": "code",
   "execution_count": 5,
   "id": "37ac69d8-9879-4fe1-8787-0f942264fe25",
   "metadata": {},
   "outputs": [],
   "source": [
    "forward = [\"ST\", \"LW\", \"RW\", \"LF\", \"RF\", \"RS\",\"LS\", \"CF\"]\n",
    "midfielder = [\"CM\",\"RCM\",\"LCM\", \"CDM\",\"RDM\",\"LDM\", \"CAM\", \"LAM\", \"RAM\", \"RM\", \"LM\"]\n",
    "defender = [\"CB\", \"RCB\", \"LCB\", \"LWB\", \"RWB\", \"LB\", \"RB\"]"
   ]
  },
  {
   "cell_type": "code",
   "execution_count": 6,
   "id": "a6070a9a-ef45-49db-b5d5-0723f863a8e1",
   "metadata": {},
   "outputs": [],
   "source": [
    "df.loc[df[\"Position\"] == \"GK\", \"Position\"] = 0\n",
    "df.loc[df[\"Position\"].isin(defender), \"Position\"] = 1\n",
    "df.loc[df[\"Position\"].isin(midfielder), \"Position\"] = 2\n",
    "df.loc[df[\"Position\"].isin(forward), \"Position\"] = 3"
   ]
  },
  {
   "cell_type": "code",
   "execution_count": 7,
   "id": "c314b5dc-5d6a-49df-97eb-b48ab7c3d016",
   "metadata": {},
   "outputs": [
    {
     "data": {
      "text/plain": [
       "2    6838\n",
       "1    5866\n",
       "3    3418\n",
       "0    2025\n",
       "Name: Position, dtype: int64"
      ]
     },
     "execution_count": 7,
     "metadata": {},
     "output_type": "execute_result"
    }
   ],
   "source": [
    "df[\"Position\"].value_counts()"
   ]
  },
  {
   "cell_type": "code",
   "execution_count": 8,
   "id": "24c4a71f-47d7-4af0-bd8c-d93cf9fd77b7",
   "metadata": {},
   "outputs": [
    {
     "data": {
      "text/plain": [
       "array([3, 0, 2, 1], dtype=object)"
      ]
     },
     "execution_count": 8,
     "metadata": {},
     "output_type": "execute_result"
    }
   ],
   "source": [
    "df[\"Position\"].unique()"
   ]
  },
  {
   "cell_type": "code",
   "execution_count": 9,
   "id": "f8c70471-dfa2-4d8c-8050-012bedd1809a",
   "metadata": {},
   "outputs": [
    {
     "data": {
      "text/html": [
       "<div>\n",
       "<style scoped>\n",
       "    .dataframe tbody tr th:only-of-type {\n",
       "        vertical-align: middle;\n",
       "    }\n",
       "\n",
       "    .dataframe tbody tr th {\n",
       "        vertical-align: top;\n",
       "    }\n",
       "\n",
       "    .dataframe thead th {\n",
       "        text-align: right;\n",
       "    }\n",
       "</style>\n",
       "<table border=\"1\" class=\"dataframe\">\n",
       "  <thead>\n",
       "    <tr style=\"text-align: right;\">\n",
       "      <th></th>\n",
       "      <th>Position</th>\n",
       "      <th>Finishing</th>\n",
       "      <th>HeadingAccuracy</th>\n",
       "      <th>ShortPassing</th>\n",
       "      <th>Volleys</th>\n",
       "      <th>Dribbling</th>\n",
       "      <th>Curve</th>\n",
       "      <th>FKAccuracy</th>\n",
       "      <th>LongPassing</th>\n",
       "      <th>BallControl</th>\n",
       "      <th>...</th>\n",
       "      <th>Penalties</th>\n",
       "      <th>Composure</th>\n",
       "      <th>Marking</th>\n",
       "      <th>StandingTackle</th>\n",
       "      <th>SlidingTackle</th>\n",
       "      <th>GKDiving</th>\n",
       "      <th>GKHandling</th>\n",
       "      <th>GKKicking</th>\n",
       "      <th>GKPositioning</th>\n",
       "      <th>GKReflexes</th>\n",
       "    </tr>\n",
       "  </thead>\n",
       "  <tbody>\n",
       "    <tr>\n",
       "      <th>0</th>\n",
       "      <td>3</td>\n",
       "      <td>95.0</td>\n",
       "      <td>70.0</td>\n",
       "      <td>90.0</td>\n",
       "      <td>86.0</td>\n",
       "      <td>97.0</td>\n",
       "      <td>93.0</td>\n",
       "      <td>94.0</td>\n",
       "      <td>87.0</td>\n",
       "      <td>96.0</td>\n",
       "      <td>...</td>\n",
       "      <td>75.0</td>\n",
       "      <td>96.0</td>\n",
       "      <td>33.0</td>\n",
       "      <td>28.0</td>\n",
       "      <td>26.0</td>\n",
       "      <td>6.0</td>\n",
       "      <td>11.0</td>\n",
       "      <td>15.0</td>\n",
       "      <td>14.0</td>\n",
       "      <td>8.0</td>\n",
       "    </tr>\n",
       "    <tr>\n",
       "      <th>1</th>\n",
       "      <td>3</td>\n",
       "      <td>94.0</td>\n",
       "      <td>89.0</td>\n",
       "      <td>81.0</td>\n",
       "      <td>87.0</td>\n",
       "      <td>88.0</td>\n",
       "      <td>81.0</td>\n",
       "      <td>76.0</td>\n",
       "      <td>77.0</td>\n",
       "      <td>94.0</td>\n",
       "      <td>...</td>\n",
       "      <td>85.0</td>\n",
       "      <td>95.0</td>\n",
       "      <td>28.0</td>\n",
       "      <td>31.0</td>\n",
       "      <td>23.0</td>\n",
       "      <td>7.0</td>\n",
       "      <td>11.0</td>\n",
       "      <td>15.0</td>\n",
       "      <td>14.0</td>\n",
       "      <td>11.0</td>\n",
       "    </tr>\n",
       "    <tr>\n",
       "      <th>2</th>\n",
       "      <td>3</td>\n",
       "      <td>87.0</td>\n",
       "      <td>62.0</td>\n",
       "      <td>84.0</td>\n",
       "      <td>84.0</td>\n",
       "      <td>96.0</td>\n",
       "      <td>88.0</td>\n",
       "      <td>87.0</td>\n",
       "      <td>78.0</td>\n",
       "      <td>95.0</td>\n",
       "      <td>...</td>\n",
       "      <td>81.0</td>\n",
       "      <td>94.0</td>\n",
       "      <td>27.0</td>\n",
       "      <td>24.0</td>\n",
       "      <td>33.0</td>\n",
       "      <td>9.0</td>\n",
       "      <td>9.0</td>\n",
       "      <td>15.0</td>\n",
       "      <td>15.0</td>\n",
       "      <td>11.0</td>\n",
       "    </tr>\n",
       "    <tr>\n",
       "      <th>3</th>\n",
       "      <td>0</td>\n",
       "      <td>13.0</td>\n",
       "      <td>21.0</td>\n",
       "      <td>50.0</td>\n",
       "      <td>13.0</td>\n",
       "      <td>18.0</td>\n",
       "      <td>21.0</td>\n",
       "      <td>19.0</td>\n",
       "      <td>51.0</td>\n",
       "      <td>42.0</td>\n",
       "      <td>...</td>\n",
       "      <td>40.0</td>\n",
       "      <td>68.0</td>\n",
       "      <td>15.0</td>\n",
       "      <td>21.0</td>\n",
       "      <td>13.0</td>\n",
       "      <td>90.0</td>\n",
       "      <td>85.0</td>\n",
       "      <td>87.0</td>\n",
       "      <td>88.0</td>\n",
       "      <td>94.0</td>\n",
       "    </tr>\n",
       "    <tr>\n",
       "      <th>4</th>\n",
       "      <td>2</td>\n",
       "      <td>82.0</td>\n",
       "      <td>55.0</td>\n",
       "      <td>92.0</td>\n",
       "      <td>82.0</td>\n",
       "      <td>86.0</td>\n",
       "      <td>85.0</td>\n",
       "      <td>83.0</td>\n",
       "      <td>91.0</td>\n",
       "      <td>91.0</td>\n",
       "      <td>...</td>\n",
       "      <td>79.0</td>\n",
       "      <td>88.0</td>\n",
       "      <td>68.0</td>\n",
       "      <td>58.0</td>\n",
       "      <td>51.0</td>\n",
       "      <td>15.0</td>\n",
       "      <td>13.0</td>\n",
       "      <td>5.0</td>\n",
       "      <td>10.0</td>\n",
       "      <td>13.0</td>\n",
       "    </tr>\n",
       "  </tbody>\n",
       "</table>\n",
       "<p>5 rows × 34 columns</p>\n",
       "</div>"
      ],
      "text/plain": [
       "  Position  Finishing  HeadingAccuracy  ShortPassing  Volleys  Dribbling  \\\n",
       "0        3       95.0             70.0          90.0     86.0       97.0   \n",
       "1        3       94.0             89.0          81.0     87.0       88.0   \n",
       "2        3       87.0             62.0          84.0     84.0       96.0   \n",
       "3        0       13.0             21.0          50.0     13.0       18.0   \n",
       "4        2       82.0             55.0          92.0     82.0       86.0   \n",
       "\n",
       "   Curve  FKAccuracy  LongPassing  BallControl  ...  Penalties  Composure  \\\n",
       "0   93.0        94.0         87.0         96.0  ...       75.0       96.0   \n",
       "1   81.0        76.0         77.0         94.0  ...       85.0       95.0   \n",
       "2   88.0        87.0         78.0         95.0  ...       81.0       94.0   \n",
       "3   21.0        19.0         51.0         42.0  ...       40.0       68.0   \n",
       "4   85.0        83.0         91.0         91.0  ...       79.0       88.0   \n",
       "\n",
       "   Marking  StandingTackle  SlidingTackle  GKDiving  GKHandling  GKKicking  \\\n",
       "0     33.0            28.0           26.0       6.0        11.0       15.0   \n",
       "1     28.0            31.0           23.0       7.0        11.0       15.0   \n",
       "2     27.0            24.0           33.0       9.0         9.0       15.0   \n",
       "3     15.0            21.0           13.0      90.0        85.0       87.0   \n",
       "4     68.0            58.0           51.0      15.0        13.0        5.0   \n",
       "\n",
       "   GKPositioning  GKReflexes  \n",
       "0           14.0         8.0  \n",
       "1           14.0        11.0  \n",
       "2           15.0        11.0  \n",
       "3           88.0        94.0  \n",
       "4           10.0        13.0  \n",
       "\n",
       "[5 rows x 34 columns]"
      ]
     },
     "execution_count": 9,
     "metadata": {},
     "output_type": "execute_result"
    }
   ],
   "source": [
    "df = df[[\"Position\", 'Finishing', 'HeadingAccuracy', 'ShortPassing', 'Volleys', 'Dribbling',\n",
    "       'Curve', 'FKAccuracy', 'LongPassing', 'BallControl', 'Acceleration',\n",
    "       'SprintSpeed', 'Agility', 'Reactions', 'Balance', 'ShotPower',\n",
    "       'Jumping', 'Stamina', 'Strength', 'LongShots', 'Aggression',\n",
    "       'Interceptions', 'Positioning', 'Vision', 'Penalties', 'Composure',\n",
    "       'Marking', 'StandingTackle', 'SlidingTackle', 'GKDiving', 'GKHandling',\n",
    "       'GKKicking', 'GKPositioning', 'GKReflexes']]\n",
    "df.head()"
   ]
  },
  {
   "cell_type": "code",
   "execution_count": 10,
   "id": "5220cc6a-7b6e-4894-bb52-5b69ee29edec",
   "metadata": {},
   "outputs": [
    {
     "data": {
      "text/html": [
       "<div>\n",
       "<style scoped>\n",
       "    .dataframe tbody tr th:only-of-type {\n",
       "        vertical-align: middle;\n",
       "    }\n",
       "\n",
       "    .dataframe tbody tr th {\n",
       "        vertical-align: top;\n",
       "    }\n",
       "\n",
       "    .dataframe thead th {\n",
       "        text-align: right;\n",
       "    }\n",
       "</style>\n",
       "<table border=\"1\" class=\"dataframe\">\n",
       "  <thead>\n",
       "    <tr style=\"text-align: right;\">\n",
       "      <th></th>\n",
       "      <th>0</th>\n",
       "      <th>1</th>\n",
       "      <th>2</th>\n",
       "      <th>3</th>\n",
       "      <th>4</th>\n",
       "      <th>5</th>\n",
       "      <th>6</th>\n",
       "      <th>7</th>\n",
       "      <th>8</th>\n",
       "      <th>9</th>\n",
       "      <th>...</th>\n",
       "      <th>23</th>\n",
       "      <th>24</th>\n",
       "      <th>25</th>\n",
       "      <th>26</th>\n",
       "      <th>27</th>\n",
       "      <th>28</th>\n",
       "      <th>29</th>\n",
       "      <th>30</th>\n",
       "      <th>31</th>\n",
       "      <th>32</th>\n",
       "    </tr>\n",
       "  </thead>\n",
       "  <tbody>\n",
       "    <tr>\n",
       "      <th>0</th>\n",
       "      <td>2.532391</td>\n",
       "      <td>1.018293</td>\n",
       "      <td>2.130190</td>\n",
       "      <td>2.434969</td>\n",
       "      <td>2.201010</td>\n",
       "      <td>2.491028</td>\n",
       "      <td>2.925359</td>\n",
       "      <td>2.236808</td>\n",
       "      <td>2.255005</td>\n",
       "      <td>1.767403</td>\n",
       "      <td>...</td>\n",
       "      <td>1.684657</td>\n",
       "      <td>3.265669</td>\n",
       "      <td>-0.717896</td>\n",
       "      <td>-0.909470</td>\n",
       "      <td>-0.923850</td>\n",
       "      <td>-0.599889</td>\n",
       "      <td>-0.318983</td>\n",
       "      <td>-0.074713</td>\n",
       "      <td>-0.140266</td>\n",
       "      <td>-0.485159</td>\n",
       "    </tr>\n",
       "    <tr>\n",
       "      <th>1</th>\n",
       "      <td>2.481180</td>\n",
       "      <td>2.111424</td>\n",
       "      <td>1.517765</td>\n",
       "      <td>2.491481</td>\n",
       "      <td>1.725114</td>\n",
       "      <td>1.838695</td>\n",
       "      <td>1.895584</td>\n",
       "      <td>1.584271</td>\n",
       "      <td>2.135138</td>\n",
       "      <td>1.633444</td>\n",
       "      <td>...</td>\n",
       "      <td>2.321491</td>\n",
       "      <td>3.178232</td>\n",
       "      <td>-0.969153</td>\n",
       "      <td>-0.770985</td>\n",
       "      <td>-1.064778</td>\n",
       "      <td>-0.543386</td>\n",
       "      <td>-0.318983</td>\n",
       "      <td>-0.074713</td>\n",
       "      <td>-0.140266</td>\n",
       "      <td>-0.318094</td>\n",
       "    </tr>\n",
       "    <tr>\n",
       "      <th>2</th>\n",
       "      <td>2.122700</td>\n",
       "      <td>0.558028</td>\n",
       "      <td>1.721906</td>\n",
       "      <td>2.321945</td>\n",
       "      <td>2.148132</td>\n",
       "      <td>2.219223</td>\n",
       "      <td>2.524891</td>\n",
       "      <td>1.649524</td>\n",
       "      <td>2.195072</td>\n",
       "      <td>1.968342</td>\n",
       "      <td>...</td>\n",
       "      <td>2.066757</td>\n",
       "      <td>3.090795</td>\n",
       "      <td>-1.019405</td>\n",
       "      <td>-1.094116</td>\n",
       "      <td>-0.595016</td>\n",
       "      <td>-0.430379</td>\n",
       "      <td>-0.437259</td>\n",
       "      <td>-0.074713</td>\n",
       "      <td>-0.081569</td>\n",
       "      <td>-0.318094</td>\n",
       "    </tr>\n",
       "    <tr>\n",
       "      <th>3</th>\n",
       "      <td>-1.666942</td>\n",
       "      <td>-1.800833</td>\n",
       "      <td>-0.591700</td>\n",
       "      <td>-1.690394</td>\n",
       "      <td>-1.976298</td>\n",
       "      <td>-1.422972</td>\n",
       "      <td>-1.365369</td>\n",
       "      <td>-0.112327</td>\n",
       "      <td>-0.981399</td>\n",
       "      <td>-0.509905</td>\n",
       "      <td>...</td>\n",
       "      <td>-0.544262</td>\n",
       "      <td>0.817436</td>\n",
       "      <td>-1.622423</td>\n",
       "      <td>-1.232601</td>\n",
       "      <td>-1.534540</td>\n",
       "      <td>4.146377</td>\n",
       "      <td>4.057254</td>\n",
       "      <td>4.287959</td>\n",
       "      <td>4.203333</td>\n",
       "      <td>4.304052</td>\n",
       "    </tr>\n",
       "    <tr>\n",
       "      <th>4</th>\n",
       "      <td>1.866643</td>\n",
       "      <td>0.155296</td>\n",
       "      <td>2.266284</td>\n",
       "      <td>2.208922</td>\n",
       "      <td>1.619359</td>\n",
       "      <td>2.056139</td>\n",
       "      <td>2.296052</td>\n",
       "      <td>2.497823</td>\n",
       "      <td>1.955338</td>\n",
       "      <td>0.896668</td>\n",
       "      <td>...</td>\n",
       "      <td>1.939390</td>\n",
       "      <td>2.566174</td>\n",
       "      <td>1.040907</td>\n",
       "      <td>0.475378</td>\n",
       "      <td>0.250555</td>\n",
       "      <td>-0.091360</td>\n",
       "      <td>-0.200706</td>\n",
       "      <td>-0.680640</td>\n",
       "      <td>-0.375055</td>\n",
       "      <td>-0.206717</td>\n",
       "    </tr>\n",
       "  </tbody>\n",
       "</table>\n",
       "<p>5 rows × 33 columns</p>\n",
       "</div>"
      ],
      "text/plain": [
       "         0         1         2         3         4         5         6   \\\n",
       "0  2.532391  1.018293  2.130190  2.434969  2.201010  2.491028  2.925359   \n",
       "1  2.481180  2.111424  1.517765  2.491481  1.725114  1.838695  1.895584   \n",
       "2  2.122700  0.558028  1.721906  2.321945  2.148132  2.219223  2.524891   \n",
       "3 -1.666942 -1.800833 -0.591700 -1.690394 -1.976298 -1.422972 -1.365369   \n",
       "4  1.866643  0.155296  2.266284  2.208922  1.619359  2.056139  2.296052   \n",
       "\n",
       "         7         8         9   ...        23        24        25        26  \\\n",
       "0  2.236808  2.255005  1.767403  ...  1.684657  3.265669 -0.717896 -0.909470   \n",
       "1  1.584271  2.135138  1.633444  ...  2.321491  3.178232 -0.969153 -0.770985   \n",
       "2  1.649524  2.195072  1.968342  ...  2.066757  3.090795 -1.019405 -1.094116   \n",
       "3 -0.112327 -0.981399 -0.509905  ... -0.544262  0.817436 -1.622423 -1.232601   \n",
       "4  2.497823  1.955338  0.896668  ...  1.939390  2.566174  1.040907  0.475378   \n",
       "\n",
       "         27        28        29        30        31        32  \n",
       "0 -0.923850 -0.599889 -0.318983 -0.074713 -0.140266 -0.485159  \n",
       "1 -1.064778 -0.543386 -0.318983 -0.074713 -0.140266 -0.318094  \n",
       "2 -0.595016 -0.430379 -0.437259 -0.074713 -0.081569 -0.318094  \n",
       "3 -1.534540  4.146377  4.057254  4.287959  4.203333  4.304052  \n",
       "4  0.250555 -0.091360 -0.200706 -0.680640 -0.375055 -0.206717  \n",
       "\n",
       "[5 rows x 33 columns]"
      ]
     },
     "execution_count": 10,
     "metadata": {},
     "output_type": "execute_result"
    }
   ],
   "source": [
    "x = df.drop(\"Position\", axis = 1)\n",
    "\n",
    "from sklearn.preprocessing import StandardScaler\n",
    "ss = StandardScaler()\n",
    "\n",
    "x = pd.DataFrame(ss.fit_transform(x))\n",
    "\n",
    "y = df[\"Position\"]\n",
    "\n",
    "x.head()"
   ]
  },
  {
   "cell_type": "code",
   "execution_count": 11,
   "id": "f6a57d51-a340-46cb-97b7-39389101bb16",
   "metadata": {},
   "outputs": [
    {
     "data": {
      "text/plain": [
       "0    3\n",
       "1    3\n",
       "2    3\n",
       "3    0\n",
       "4    2\n",
       "Name: Position, dtype: object"
      ]
     },
     "execution_count": 11,
     "metadata": {},
     "output_type": "execute_result"
    }
   ],
   "source": [
    "y.head()"
   ]
  },
  {
   "cell_type": "code",
   "execution_count": 12,
   "id": "4abde39f-c32f-44ca-9296-fa4e7d0bde23",
   "metadata": {},
   "outputs": [
    {
     "data": {
      "text/plain": [
       "array([[0., 0., 0., 1.],\n",
       "       [0., 0., 0., 1.],\n",
       "       [0., 0., 0., 1.],\n",
       "       [1., 0., 0., 0.],\n",
       "       [0., 0., 1., 0.],\n",
       "       [0., 0., 0., 1.],\n",
       "       [0., 0., 1., 0.],\n",
       "       [0., 0., 0., 1.],\n",
       "       [0., 1., 0., 0.],\n",
       "       [1., 0., 0., 0.]], dtype=float32)"
      ]
     },
     "execution_count": 12,
     "metadata": {},
     "output_type": "execute_result"
    }
   ],
   "source": [
    "from keras.utils.np_utils import to_categorical\n",
    "y_cat = to_categorical(y)\n",
    "\n",
    "y_cat[:10]"
   ]
  },
  {
   "cell_type": "code",
   "execution_count": 13,
   "id": "b6b3d179-d16e-45cc-bbb4-5712566c68b2",
   "metadata": {},
   "outputs": [],
   "source": [
    "from sklearn.model_selection import train_test_split\n",
    "\n",
    "x_train, x_test, y_train, y_test = train_test_split(x.values, y_cat,\n",
    "                                                    test_size=0.2)"
   ]
  },
  {
   "cell_type": "code",
   "execution_count": 14,
   "id": "a78d67ba-0a7c-468b-8c2f-1d56ada398ee",
   "metadata": {},
   "outputs": [
    {
     "data": {
      "text/plain": [
       "(18147,)"
      ]
     },
     "execution_count": 14,
     "metadata": {},
     "output_type": "execute_result"
    }
   ],
   "source": [
    "y.shape"
   ]
  },
  {
   "cell_type": "code",
   "execution_count": 15,
   "id": "4813cf43-9f85-4101-86e4-e0a7745b1437",
   "metadata": {},
   "outputs": [
    {
     "data": {
      "text/plain": [
       "(18147, 33)"
      ]
     },
     "execution_count": 15,
     "metadata": {},
     "output_type": "execute_result"
    }
   ],
   "source": [
    "x.shape"
   ]
  },
  {
   "cell_type": "code",
   "execution_count": 17,
   "id": "78745169-7237-4bd7-92a7-d4110b73e888",
   "metadata": {},
   "outputs": [],
   "source": [
    "import tensorflow as tf"
   ]
  },
  {
   "cell_type": "code",
   "execution_count": 18,
   "id": "ca403a69-0f9e-499e-87df-1c5fa9e52382",
   "metadata": {},
   "outputs": [],
   "source": [
    "import keras as ks"
   ]
  },
  {
   "cell_type": "code",
   "execution_count": 19,
   "id": "7e536b20-f43a-4d82-aab6-f5ef9af45d3a",
   "metadata": {},
   "outputs": [],
   "source": [
    "from keras.models import Sequential\n",
    "from keras.layers import Dense"
   ]
  },
  {
   "cell_type": "code",
   "execution_count": 25,
   "id": "89f02890-753c-40d6-8ad1-270d8d2987f7",
   "metadata": {},
   "outputs": [
    {
     "name": "stdout",
     "output_type": "stream",
     "text": [
      "Model: \"sequential\"\n",
      "_________________________________________________________________\n",
      " Layer (type)                Output Shape              Param #   \n",
      "=================================================================\n",
      " dense (Dense)               (None, 60)                2040      \n",
      "                                                                 \n",
      " dense_1 (Dense)             (None, 15)                915       \n",
      "                                                                 \n",
      " dense_2 (Dense)             (None, 4)                 64        \n",
      "                                                                 \n",
      "=================================================================\n",
      "Total params: 3,019\n",
      "Trainable params: 3,019\n",
      "Non-trainable params: 0\n",
      "_________________________________________________________________\n"
     ]
    }
   ],
   "source": [
    "K.clear_session()\n",
    "model = Sequential()\n",
    "model.add(Dense(60, input_shape = (33,), activation = \"relu\"))\n",
    "model.add(Dense(15, activation = \"relu\"))\n",
    "model.add(Dense(4, activation = \"softmax\"))\n",
    "model.summary()"
   ]
  },
  {
   "cell_type": "code",
   "execution_count": 26,
   "id": "f7f0162a-7d02-4d8b-8ee3-0d7aa35f8eed",
   "metadata": {},
   "outputs": [
    {
     "data": {
      "text/plain": [
       "2040"
      ]
     },
     "execution_count": 26,
     "metadata": {},
     "output_type": "execute_result"
    }
   ],
   "source": [
    "60 * 33 + 60"
   ]
  },
  {
   "cell_type": "code",
   "execution_count": 28,
   "id": "2c5a3dba-c8c0-45d4-a6cf-bcd414822117",
   "metadata": {},
   "outputs": [],
   "source": [
    "model.compile(loss='binary_crossentropy',optimizer='adam',metrics=['accuracy'])"
   ]
  },
  {
   "cell_type": "code",
   "execution_count": 29,
   "id": "e2166eea-eef5-4525-816d-f0a34aa71ec1",
   "metadata": {},
   "outputs": [
    {
     "name": "stdout",
     "output_type": "stream",
     "text": [
      "Epoch 1/10\n",
      "454/454 [==============================] - 1s 1ms/step - loss: 0.2288 - accuracy: 0.8178\n",
      "Epoch 2/10\n",
      "454/454 [==============================] - 0s 1ms/step - loss: 0.1541 - accuracy: 0.8693\n",
      "Epoch 3/10\n",
      "454/454 [==============================] - 0s 1ms/step - loss: 0.1487 - accuracy: 0.8749\n",
      "Epoch 4/10\n",
      "454/454 [==============================] - 0s 980us/step - loss: 0.1451 - accuracy: 0.8786\n",
      "Epoch 5/10\n",
      "454/454 [==============================] - 0s 1ms/step - loss: 0.1429 - accuracy: 0.8797\n",
      "Epoch 6/10\n",
      "454/454 [==============================] - 0s 1ms/step - loss: 0.1418 - accuracy: 0.8820\n",
      "Epoch 7/10\n",
      "454/454 [==============================] - 0s 836us/step - loss: 0.1399 - accuracy: 0.8839\n",
      "Epoch 8/10\n",
      "454/454 [==============================] - 0s 875us/step - loss: 0.1386 - accuracy: 0.8843\n",
      "Epoch 9/10\n",
      "454/454 [==============================] - 0s 1ms/step - loss: 0.1380 - accuracy: 0.8848\n",
      "Epoch 10/10\n",
      "454/454 [==============================] - 0s 1ms/step - loss: 0.1359 - accuracy: 0.8861\n"
     ]
    },
    {
     "data": {
      "text/plain": [
       "<keras.callbacks.History at 0x2a15e9aadf0>"
      ]
     },
     "execution_count": 29,
     "metadata": {},
     "output_type": "execute_result"
    }
   ],
   "source": [
    "model.fit(x_train, y_train, verbose=1, epochs=10)"
   ]
  },
  {
   "cell_type": "code",
   "execution_count": 31,
   "id": "3ed8af86-8cda-45aa-8329-26bd6016ac45",
   "metadata": {},
   "outputs": [],
   "source": [
    "y_pred = model.predict(x_test)"
   ]
  },
  {
   "cell_type": "code",
   "execution_count": 34,
   "id": "40345fa1-8522-4f4d-a9b2-3d305bee3743",
   "metadata": {},
   "outputs": [
    {
     "data": {
      "text/plain": [
       "array([[6.3277874e-08, 9.9917942e-01, 8.0763013e-04, 1.2851263e-05],\n",
       "       [1.0929639e-06, 6.4566535e-05, 3.8207141e-01, 6.1786288e-01],\n",
       "       [2.9408051e-10, 9.9999118e-01, 8.7685439e-06, 5.6491814e-08],\n",
       "       ...,\n",
       "       [1.7732805e-12, 9.9999952e-01, 4.2095741e-07, 3.3925218e-09],\n",
       "       [1.5273802e-08, 9.9991679e-01, 8.0377293e-05, 2.8698012e-06],\n",
       "       [4.6400728e-09, 2.6322560e-09, 1.0739982e-07, 9.9999988e-01]],\n",
       "      dtype=float32)"
      ]
     },
     "execution_count": 34,
     "metadata": {},
     "output_type": "execute_result"
    }
   ],
   "source": [
    "y_pred"
   ]
  },
  {
   "cell_type": "code",
   "execution_count": 36,
   "id": "f987b680-ae7a-4ffa-a9c2-1be3f65c3d3c",
   "metadata": {},
   "outputs": [
    {
     "data": {
      "text/plain": [
       "array([-0.79634878,  0.2128287 ,  0.08877229, -0.95574017, -0.28422393,\n",
       "        0.0447782 , -1.13653014,  0.21394185, -0.20226495,  0.22687154,\n",
       "        0.49645619, -0.37250072, -1.31388296, -0.42193162, -1.01335311,\n",
       "        0.07688763, -0.0768485 , -0.4237224 , -0.68075852, -0.10803073,\n",
       "        0.49752589, -0.56130243, -0.66503926, -0.41689514, -0.31924311,\n",
       "        0.43788897,  0.5215392 ,  0.48543629, -0.48688246, -0.4963977 ,\n",
       "       -0.19589859, -0.55114708, -0.54084783])"
      ]
     },
     "execution_count": 36,
     "metadata": {},
     "output_type": "execute_result"
    }
   ],
   "source": [
    "x_test[0]"
   ]
  },
  {
   "cell_type": "code",
   "execution_count": 37,
   "id": "91d05d36-32f7-48cd-939d-72598281a741",
   "metadata": {},
   "outputs": [
    {
     "data": {
      "text/plain": [
       "array([0., 1., 0., 0.], dtype=float32)"
      ]
     },
     "execution_count": 37,
     "metadata": {},
     "output_type": "execute_result"
    }
   ],
   "source": [
    "y_test[0]"
   ]
  },
  {
   "cell_type": "code",
   "execution_count": 38,
   "id": "efcefb9d-7e02-4bf4-8203-b7c788beec93",
   "metadata": {},
   "outputs": [],
   "source": [
    "predict=model.predict([[-0.79634878,  0.2128287 ,  0.08877229, -0.95574017, -0.28422393,\n",
    "        0.0447782 , -1.13653014,  0.21394185, -0.20226495,  0.22687154,\n",
    "        0.49645619, -0.37250072, -1.31388296, -0.42193162, -1.01335311,\n",
    "        0.07688763, -0.0768485 , -0.4237224 , -0.68075852, -0.10803073,\n",
    "        0.49752589, -0.56130243, -0.66503926, -0.41689514, -0.31924311,\n",
    "        0.43788897,  0.5215392 ,  0.48543629, -0.48688246, -0.4963977 ,\n",
    "       -0.19589859, -0.55114708, -0.54084783]])"
   ]
  },
  {
   "cell_type": "code",
   "execution_count": 40,
   "id": "10d222b7-5a1c-4dc5-a0ca-723f09585fda",
   "metadata": {},
   "outputs": [
    {
     "data": {
      "text/plain": [
       "array([[False,  True, False, False]])"
      ]
     },
     "execution_count": 40,
     "metadata": {},
     "output_type": "execute_result"
    }
   ],
   "source": [
    "predict>0.5"
   ]
  },
  {
   "cell_type": "code",
   "execution_count": null,
   "id": "8f2709cf-5f11-4cd3-ba6e-5d6856ea9dc6",
   "metadata": {},
   "outputs": [],
   "source": []
  }
 ],
 "metadata": {
  "kernelspec": {
   "display_name": "Python 3 (ipykernel)",
   "language": "python",
   "name": "python3"
  },
  "language_info": {
   "codemirror_mode": {
    "name": "ipython",
    "version": 3
   },
   "file_extension": ".py",
   "mimetype": "text/x-python",
   "name": "python",
   "nbconvert_exporter": "python",
   "pygments_lexer": "ipython3",
   "version": "3.9.7"
  }
 },
 "nbformat": 4,
 "nbformat_minor": 5
}
